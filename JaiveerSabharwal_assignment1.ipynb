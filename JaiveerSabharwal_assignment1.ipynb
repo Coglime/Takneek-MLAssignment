{
  "cells": [
    {
      "cell_type": "markdown",
      "metadata": {
        "id": "QfT2uTbvV-QD"
      },
      "source": [
        "## <center>  <b> NLP Navigator - Assignment 1 </b>  </center>"
      ]
    },
    {
      "cell_type": "markdown",
      "metadata": {
        "id": "UAA192C-V-QE"
      },
      "source": [
        "This is the first assignment of the project and will test your basic python skills and what you have learnt so far about the libraries like numpy and matplotlib. The problem statement and your tasks are described below. You have to rename the notebook as `{Your Name}_Assignment1.ipynb` and write all the code and then generate outputs in it. Submission will be on github and more guidelines will be given soon. The deadline to submit the assignment is `10th June 5:00 PM`"
      ]
    },
    {
      "cell_type": "markdown",
      "metadata": {
        "id": "z314fmyyV-QE"
      },
      "source": [
        "Given a set of $ n $ points in $ d $ dimensional Euclidean Space, we will find all pairs of points whose Euclidean distance is less than $ r $.\n",
        "\n",
        "Let  $ \\overrightarrow{P_1} = (P_{11},P_{12}, \\ldots, P_{1d}) $ and $ \\overrightarrow{P_2} = (P_{21},P_{22}, \\ldots, P_{2d}) $ be two points. Then the Euclidean distance between them is equal to the norm $ \\left|\\left| \\overrightarrow{P_1} - \\overrightarrow{P_2} \\right|\\right| $.\n",
        "\n",
        "We have to find the set $ A = \\left\\{(i, j): \\left|\\left| \\overrightarrow{P_1} - \\overrightarrow{P_2} \\right|\\right| \\leq r \\right\\} $ where $ i,j \\in \\{1,2,3,...,n\\} $.\n",
        "\n",
        "\n",
        "Obviously we can find it by using 2 nested loops and searching over all pairs, but we will do the task in an optimised way. Let us make a grid where each cell is of dimension $ r \\times r $. Then, (say d = 2)\n",
        "\n",
        "![graph1](https://drive.google.com/uc?export=view&id=1qIcPgkv9Q3fI-eV5AaAobjFIYy_2siZN)\n",
        "\n",
        "Divide the points into the cells based on their coordinates. For example, say $ 4 $ points $ \\left( \\frac{1}{2}, \\frac{2}{3} \\right), \\left( \\frac{2}{3}, \\frac{3}{2} \\right), \\left( 1, 1 \\right), \\left( \\frac{3}{2}, \\frac{5}{2} \\right) $ and $ r = 1 $. So the division should be like -\n",
        "\n",
        "![graph2](https://drive.google.com/uc?export=view&id=1-u-mT1PTxOkow_uz0T8ZBjU35u63uU7F)\n",
        "\n",
        "Now comes the observation: For any point, the points which are within distance $ d $ from it must lie in 8 adjacent cells and no where else. So, for every point, just search the points present in 8 adjacent cells, and add the valid pairs to the answer set $ A $. Please note that for corner cells, the number of adjacent cells will not be equal to 8. So, write your code including those cases also.\n",
        "##### Some points for higher dimension cases:\n",
        "1. Think whether the number of adjacent cells for higher dimensions will be 8 or more (or less).\n",
        "2. Observe that the dimension of each cell will not be $r*r$ for each case.\n",
        "##### <u>Note</u>: Assume the pair $ (i,j) $ and $ (j,i) $ to be same. So write your code accordingly. For example, in 2-D space, we will count $ ((1,2), (4,5)) $ and $ ((4,5), (1,2)) $ only once."
      ]
    },
    {
      "cell_type": "markdown",
      "metadata": {
        "id": "xd9FZy3aV-QF"
      },
      "source": [
        "## Tasks TO DO:\n",
        "\n",
        "1. Generate a set of $ 1000 $ random points in $ 2 $ dimensional space with coordinates ranging between 0 and 100.\n",
        "2. For $ r = \\{ 1, 2, \\ldots, 10 \\} $, divide the points into grid as shown.\n",
        "   - Show using matplotlib the various points using different colours.\n",
        "   - Find pairs and store them in a list/set $ A $\n",
        "3. Do task 1 and 2 for $ d = 3, 4, 10, 50, 100 $ (except plotting) and store the results.\n",
        "(You can also plot for $ d = 3 $ but it is optional)"
      ]
    },
    {
      "cell_type": "markdown",
      "source": [
        "# Code"
      ],
      "metadata": {
        "id": "eUS_QKwFXI45"
      }
    },
    {
      "cell_type": "code",
      "source": [
        "import numpy as np\n",
        "import matplotlib.pyplot as plt"
      ],
      "metadata": {
        "id": "QY__b7QPYRtg"
      },
      "execution_count": 119,
      "outputs": []
    },
    {
      "cell_type": "code",
      "source": [
        "COORDINATE_RANGE = 100\n",
        "R = 5\n",
        "SAMPLE_SIZE = 100"
      ],
      "metadata": {
        "id": "k_paNbYGeczg"
      },
      "execution_count": 130,
      "outputs": []
    },
    {
      "cell_type": "code",
      "source": [
        "pts_unscaled = np.random.random(size=(SAMPLE_SIZE,2))\n",
        "pts_unscaled *= COORDINATE_RANGE\n",
        "pts = pts_unscaled/R\n",
        "pts_unscaled"
      ],
      "metadata": {
        "colab": {
          "base_uri": "https://localhost:8080/"
        },
        "id": "yL3PdJ5xYS3v",
        "outputId": "4890c951-6b5b-4999-86fe-baabece9b813"
      },
      "execution_count": 131,
      "outputs": [
        {
          "output_type": "execute_result",
          "data": {
            "text/plain": [
              "array([[76.06807326,  4.38189352],\n",
              "       [97.86725699, 33.59466012],\n",
              "       [ 5.07833594, 90.9282612 ],\n",
              "       [91.62279763, 82.79761242],\n",
              "       [ 3.91282044, 39.66597518],\n",
              "       [66.2678874 , 24.1610313 ],\n",
              "       [28.75351061, 25.65145662],\n",
              "       [45.16275706, 96.09988125],\n",
              "       [88.9960483 , 49.49728001],\n",
              "       [72.21804436,  0.38319868],\n",
              "       [25.53265493, 52.96866211],\n",
              "       [ 9.05345916, 42.12726428],\n",
              "       [77.7239407 , 80.46920769],\n",
              "       [93.73152236, 46.75142507],\n",
              "       [50.23668031, 36.66892549],\n",
              "       [71.96920466, 75.80089503],\n",
              "       [93.7760377 ,  8.1212597 ],\n",
              "       [81.44098677, 17.24499455],\n",
              "       [37.78182373, 72.63272028],\n",
              "       [75.23850023, 19.58485531],\n",
              "       [ 3.30095015, 34.15132276],\n",
              "       [69.38784145, 21.22359254],\n",
              "       [18.453612  , 22.4459225 ],\n",
              "       [27.74213084, 98.05152035],\n",
              "       [32.80986678, 73.3507749 ],\n",
              "       [25.33236264, 76.72847059],\n",
              "       [40.73617477, 66.46010368],\n",
              "       [17.25923762, 73.67291522],\n",
              "       [58.18494759,  5.40066946],\n",
              "       [11.08027993,  0.91079323],\n",
              "       [68.49806948, 72.59572533],\n",
              "       [72.89993925, 28.55395372],\n",
              "       [14.87782272,  9.38828026],\n",
              "       [74.06688716, 93.0957831 ],\n",
              "       [75.61413213,  2.69064065],\n",
              "       [48.96652634, 89.83083277],\n",
              "       [ 9.71694275,  7.3237279 ],\n",
              "       [10.5250823 , 16.6049171 ],\n",
              "       [32.63317825, 54.22256391],\n",
              "       [58.18845497, 32.07413119],\n",
              "       [74.95258654, 51.57832058],\n",
              "       [48.2819573 , 19.46149152],\n",
              "       [ 5.84650198, 75.8338367 ],\n",
              "       [21.39430976, 93.57095123],\n",
              "       [92.25442768, 57.68706368],\n",
              "       [55.40440067, 97.71809658],\n",
              "       [30.84033761, 21.34135856],\n",
              "       [64.15733734, 19.3271855 ],\n",
              "       [15.1694939 , 98.65995998],\n",
              "       [88.56519469,  7.52696057],\n",
              "       [21.78834687,  7.91723205],\n",
              "       [60.06809491,  9.36994592],\n",
              "       [88.30750307, 66.74111623],\n",
              "       [28.60779793, 72.23810336],\n",
              "       [79.28867091, 33.47873334],\n",
              "       [48.19684294, 50.19685353],\n",
              "       [68.86957498, 70.70674657],\n",
              "       [28.74067569, 55.05600912],\n",
              "       [12.17990638, 88.39092305],\n",
              "       [16.49137896, 82.69667429],\n",
              "       [79.59651436, 61.86530532],\n",
              "       [50.16417705, 40.97965237],\n",
              "       [80.15429894,  4.36452809],\n",
              "       [10.22723573, 27.66538886],\n",
              "       [16.01485695, 71.39171203],\n",
              "       [38.44073978, 42.03350315],\n",
              "       [21.97516525, 24.39466795],\n",
              "       [92.21045145, 11.21681694],\n",
              "       [59.90881704, 53.06352906],\n",
              "       [86.96530274, 11.77889696],\n",
              "       [ 0.45098343,  8.2861301 ],\n",
              "       [55.37848057, 56.10438886],\n",
              "       [ 7.38765953, 33.89324728],\n",
              "       [35.97543266, 78.12220861],\n",
              "       [17.63575675,  9.55526829],\n",
              "       [19.23569191, 31.27982642],\n",
              "       [ 2.94341085, 25.77955739],\n",
              "       [26.50500272, 10.18877183],\n",
              "       [ 3.03828467,  9.08234932],\n",
              "       [37.21208849, 93.75612923],\n",
              "       [47.11263068, 84.26015689],\n",
              "       [59.0826256 , 63.07171964],\n",
              "       [55.03033399, 43.16429922],\n",
              "       [30.3904509 ,  5.73787639],\n",
              "       [99.09083505, 25.38439289],\n",
              "       [50.35078557, 82.71237793],\n",
              "       [98.87996675, 49.35045656],\n",
              "       [71.15827408, 17.88473036],\n",
              "       [15.13630414, 41.98570326],\n",
              "       [93.72813233, 35.1974964 ],\n",
              "       [94.31284045, 97.73593536],\n",
              "       [74.14628526, 85.18911606],\n",
              "       [12.18521037, 21.14572265],\n",
              "       [46.12945827, 43.85932412],\n",
              "       [80.37045799,  5.7417053 ],\n",
              "       [15.88177977, 39.1272584 ],\n",
              "       [43.92502236, 19.50537432],\n",
              "       [80.03024621, 55.89749898],\n",
              "       [65.77017193, 25.92472909],\n",
              "       [85.15253648, 35.91815018]])"
            ]
          },
          "metadata": {},
          "execution_count": 131
        }
      ]
    },
    {
      "cell_type": "code",
      "source": [
        "colours = np.random.randint(0,COORDINATE_RANGE,size=(SAMPLE_SIZE,))\n",
        "plt.scatter(pts_unscaled[:,0],pts_unscaled[:,1],c=colours,cmap=\"nipy_spectral\")\n",
        "plt.show()"
      ],
      "metadata": {
        "colab": {
          "base_uri": "https://localhost:8080/",
          "height": 430
        },
        "id": "GM-vOvBLY6Nh",
        "outputId": "fb50dfba-e057-4521-b864-4c1d086f7835"
      },
      "execution_count": 132,
      "outputs": [
        {
          "output_type": "display_data",
          "data": {
            "text/plain": [
              "<Figure size 640x480 with 1 Axes>"
            ],
            "image/png": "[encoded data removed]"
          },
          "metadata": {}
        }
      ]
    },
    {
      "cell_type": "code",
      "source": [
        "def distance(p1,p2): #p1 is a point -> array of x,y,z,w etc\n",
        "  dist_sq = 0\n",
        "  for d in range(0,len(p1)):\n",
        "    dist_sq += (p1[d]-p2[d])**2\n",
        "  return dist_sq**0.5\n",
        "\n",
        "def find_indices(list_of_pts,point):\n",
        "  indices = np.array([],dtype='uint32')\n",
        "  for i in range(0,SAMPLE_SIZE):\n",
        "   if(np.array_equal(list_of_pts[i],point)):\n",
        "    indices = np.append(indices,i)\n",
        "  return indices\n",
        "\n",
        "def print_pairs(pairs):\n",
        "  for pair in pairs:\n",
        "    if(len(pair)==0):\n",
        "     continue\n",
        "    else:\n",
        "     print(pts_unscaled[pair[0]],\"and\",pts_unscaled[pair[1]])"
      ],
      "metadata": {
        "id": "Tk2F_1J5gylw"
      },
      "execution_count": 133,
      "outputs": []
    },
    {
      "cell_type": "markdown",
      "source": [
        "### Finding the pairs for two dimensions"
      ],
      "metadata": {
        "id": "T3Jp3wk9bYcx"
      }
    },
    {
      "cell_type": "markdown",
      "source": [
        "My approach assigns a cell to each point by applying floor(x) to the coordinates of that point, as a result (0.5,0.75) belongs to cell (0,0) and (1.2,2.9) belongs to cell (1,2)"
      ],
      "metadata": {
        "id": "KXBS-prW0cKX"
      }
    },
    {
      "cell_type": "markdown",
      "source": [
        "For every point P being checked, now I add -1,0 or 1 to the cell coordinates and find all points lying in those cells (P')\n",
        "Finally I only check the distance criterion between P and P', not P and all points in the initial set"
      ],
      "metadata": {
        "id": "fOgvP_EC0wcV"
      }
    },
    {
      "cell_type": "markdown",
      "source": [
        "The final output will be in the form of a list of pairs of indices of the points which satisfy the given condition"
      ],
      "metadata": {
        "id": "Ru5XhtOv1PkZ"
      }
    },
    {
      "cell_type": "code",
      "source": [
        "cells = np.int32(pts)\n",
        "pairs = [()]\n",
        "# pairs = [ (index1, indexm) , (index1, indexn) , ... ]\n",
        "for t in range(0,SAMPLE_SIZE):\n",
        "  a = cells[t][0]\n",
        "  b = cells[t][1]\n",
        "  p = [a,b]\n",
        "\n",
        "  for i in [-1,0,1]:\n",
        "   for j in [-1,0,1]:\n",
        "    if(a==0 and i<0):\n",
        "      continue\n",
        "    elif(b==0 and j<0):\n",
        "      continue\n",
        "    else:\n",
        "      idx = find_indices(cells,[a+i,b+j])\n",
        "      if(i==0 and j==0):\n",
        "        lst = idx[idx!=t]\n",
        "        for m in lst:\n",
        "          if(distance(pts[t],pts[m])<=1):\n",
        "            pair = (t,m)\n",
        "            pair_rev = (m,t)\n",
        "            if(len(pairs[0])==0):\n",
        "              pairs[0] = pair\n",
        "            elif (pair in pairs) or (pair_rev in pairs):\n",
        "              continue\n",
        "            else:\n",
        "              pairs.append(pair)\n",
        "      else:\n",
        "        for m in idx:\n",
        "          if(distance(pts[t],pts[m])<=1):\n",
        "            pair = (t,m)\n",
        "            pair_rev = (m,t)\n",
        "            if(len(pairs[0])==0):\n",
        "              pairs[0] = pair\n",
        "            elif (pair in pairs) or (pair_rev in pairs):\n",
        "              continue\n",
        "            else:\n",
        "              pairs.append(pair)\n",
        "\n",
        "pairs\n"
      ],
      "metadata": {
        "colab": {
          "base_uri": "https://localhost:8080/"
        },
        "id": "ytIvd6RLdIJw",
        "outputId": "e1f12baf-44b6-4167-dfaf-c1cb97a67c8f"
      },
      "execution_count": 134,
      "outputs": [
        {
          "output_type": "execute_result",
          "data": {
            "text/plain": [
              "[(0, 34),\n",
              " (0, 62),\n",
              " (0, 94),\n",
              " (1, 89),\n",
              " (5, 21),\n",
              " (5, 98),\n",
              " (6, 46),\n",
              " (9, 34),\n",
              " (10, 57),\n",
              " (14, 61),\n",
              " (15, 30),\n",
              " (16, 67),\n",
              " (19, 87),\n",
              " (20, 72),\n",
              " (21, 87),\n",
              " (22, 66),\n",
              " (24, 53),\n",
              " (27, 64),\n",
              " (28, 51),\n",
              " (30, 56),\n",
              " (32, 74),\n",
              " (34, 62),\n",
              " (37, 92),\n",
              " (38, 57),\n",
              " (41, 96),\n",
              " (49, 69),\n",
              " (50, 74),\n",
              " (61, 93),\n",
              " (62, 94),\n",
              " (70, 78),\n",
              " (80, 85),\n",
              " (88, 95)]"
            ]
          },
          "metadata": {},
          "execution_count": 134
        }
      ]
    },
    {
      "cell_type": "markdown",
      "source": [
        "### Now for D dimensions, edit parameters"
      ],
      "metadata": {
        "id": "uYyLSSrZiqj3"
      }
    },
    {
      "cell_type": "code",
      "source": [
        "D = 4\n",
        "COORDINATE_RANGE = 20\n",
        "R = 2\n",
        "SAMPLE_SIZE = 100"
      ],
      "metadata": {
        "id": "I75G0yJXivkm"
      },
      "execution_count": 114,
      "outputs": []
    },
    {
      "cell_type": "code",
      "source": [
        "pts_unscaled = np.random.random(size=(SAMPLE_SIZE,D))\n",
        "pts_unscaled *= COORDINATE_RANGE\n",
        "pts = pts_unscaled/R\n",
        "pts_unscaled"
      ],
      "metadata": {
        "colab": {
          "base_uri": "https://localhost:8080/"
        },
        "id": "H26rHHjhi7_5",
        "outputId": "374364fe-cb9f-43db-c172-3abdc7efd71a"
      },
      "execution_count": 115,
      "outputs": [
        {
          "output_type": "execute_result",
          "data": {
            "text/plain": [
              "array([[12.81721141, 14.89619979,  7.92489666,  7.02518972],\n",
              "       [14.61025379,  2.22772351,  5.45649963,  7.16370274],\n",
              "       [ 4.8196123 ,  7.20356288, 13.52565018,  9.45739192],\n",
              "       [14.661842  , 15.66070196,  2.11318259,  5.41673409],\n",
              "       [ 0.40971546, 19.23954685,  0.39401454,  9.16624978],\n",
              "       [ 6.03153217,  2.10657228, 10.4939357 , 17.58602807],\n",
              "       [10.85721906, 16.82175898, 12.98168334, 19.61243133],\n",
              "       [13.64959843, 16.07768136, 15.20275799, 11.35955224],\n",
              "       [ 4.24903742,  5.31752745,  8.61427196, 13.98022188],\n",
              "       [ 2.94367287,  3.42423796,  5.67518404,  2.77312703],\n",
              "       [ 9.32581046,  1.85963422,  9.26144446,  0.99231895],\n",
              "       [ 9.91701057,  0.48120347,  7.40895811, 14.14272441],\n",
              "       [11.43398627,  6.37312244,  7.46390275,  2.05756236],\n",
              "       [ 5.49826665, 17.02075011,  0.05905147, 19.17155518],\n",
              "       [ 0.39029624,  0.61150918, 15.57609542, 11.70008116],\n",
              "       [11.4347352 ,  6.98256642, 10.45246973,  6.58963184],\n",
              "       [ 4.68617243, 11.03187007, 17.75344153,  2.94202073],\n",
              "       [14.70400927, 15.02056888,  4.11168087, 16.64425371],\n",
              "       [17.77774181,  2.47312593,  7.59144587,  7.39742965],\n",
              "       [10.67615583, 17.49484465, 16.96259686, 10.70938836],\n",
              "       [ 2.92497134, 13.88791318, 18.04285961,  1.42086156],\n",
              "       [18.64785495,  7.65484221,  0.69413061, 18.32833956],\n",
              "       [14.22175974,  1.10754453,  3.66387416,  3.90601835],\n",
              "       [ 8.65884842, 14.06802647, 10.54873743, 11.57969716],\n",
              "       [ 9.13610685,  2.5672036 , 18.24782915,  3.88938079],\n",
              "       [16.68957219,  9.1842355 ,  0.65407357, 19.14921155],\n",
              "       [ 8.42571253,  6.81621983, 18.40905029,  1.32168855],\n",
              "       [12.41990086, 19.71449806,  4.3640646 , 12.38598246],\n",
              "       [16.94750314,  1.00293266, 15.61188744,  4.4145283 ],\n",
              "       [ 2.11503006,  7.83512474,  7.80534758, 10.66970775],\n",
              "       [16.81071221, 10.29051497,  1.41464814,  9.1028817 ],\n",
              "       [18.48997562, 12.02135044, 15.21152072, 10.17566547],\n",
              "       [ 4.45189253, 10.62304336, 16.32633075, 13.05054252],\n",
              "       [10.40737264, 11.39442352,  8.98177425,  4.00303123],\n",
              "       [10.74070531, 15.95932974,  7.18776106,  3.55306507],\n",
              "       [11.39151779,  0.9890491 ,  2.44098829,  8.62117646],\n",
              "       [ 6.77683961,  3.36458969, 15.76229606,  4.02156526],\n",
              "       [11.39274595,  9.56343368,  2.69670062, 17.34847968],\n",
              "       [19.05454298, 15.20335228, 16.77618879, 10.88519049],\n",
              "       [10.70172528, 12.03150574,  4.17300374, 14.19466863],\n",
              "       [ 7.6476574 ,  5.23171786,  9.00146007,  6.29753488],\n",
              "       [17.66532655, 10.70278635,  6.68805571,  7.98413955],\n",
              "       [11.2411865 ,  6.152852  , 18.15409591,  4.97837477],\n",
              "       [12.68187674,  8.38111368, 14.32025215,  5.09312047],\n",
              "       [10.77079742, 10.29259322,  1.53628306,  5.40495242],\n",
              "       [14.17100986, 12.98973156, 11.59806772, 11.34268333],\n",
              "       [ 7.21116923,  8.67253296,  2.99540459,  3.42101095],\n",
              "       [ 7.25521722,  0.11798674, 16.58827357, 10.38645578],\n",
              "       [13.75644175,  3.45357956, 17.55851333, 11.45990754],\n",
              "       [ 2.25458114,  8.63415696,  3.99918689, 18.2713645 ],\n",
              "       [ 4.75238673,  5.27000895,  4.24229652,  7.00748153],\n",
              "       [18.49010398,  6.33660583, 16.49259073,  8.11518016],\n",
              "       [13.34343316,  5.75154203, 16.75536412, 10.25801719],\n",
              "       [ 9.36038777, 13.92431346,  0.30438345, 18.5433356 ],\n",
              "       [ 3.84394848, 18.2294271 , 16.8144295 , 14.87456301],\n",
              "       [18.02617325,  8.66658874,  9.36779773, 12.78849277],\n",
              "       [13.21491846,  6.20563982,  3.26549577,  9.89776333],\n",
              "       [ 4.12369116,  7.70555921,  5.03054818,  7.95240393],\n",
              "       [ 2.7395303 ,  0.29497965,  8.01064714,  0.05276298],\n",
              "       [ 9.02381942, 10.81649769,  8.08042166,  3.11485737],\n",
              "       [ 5.08047286,  9.81043388,  0.60524544, 14.3754782 ],\n",
              "       [ 6.85925287,  4.54820541, 18.72539875,  9.30832519],\n",
              "       [ 7.0069583 , 12.80376555,  3.77575784,  1.18254942],\n",
              "       [ 1.17731187, 11.15347104,  3.32330286, 13.24422111],\n",
              "       [13.39722762, 12.57227786,  6.11479289, 12.72158011],\n",
              "       [16.93417854,  3.72037253,  6.5559781 ,  8.00517903],\n",
              "       [ 6.29171402, 17.28512929,  1.07494961,  2.86497082],\n",
              "       [18.20243913,  8.20201851, 13.88076605,  5.22806782],\n",
              "       [11.0947494 , 15.57257922, 11.3510881 , 15.45988402],\n",
              "       [ 0.29042109, 19.59294226, 18.66746187,  7.21672877],\n",
              "       [ 0.02598993, 16.58388686,  6.81812262,  7.53295244],\n",
              "       [ 0.97514193,  0.25790793, 14.29789766,  2.32785315],\n",
              "       [10.9302496 ,  0.14151983,  8.4131823 , 18.36476671],\n",
              "       [16.18685892, 15.86600309,  7.71587233, 11.67606042],\n",
              "       [ 1.95398366,  3.00563053, 11.81731951, 19.00070564],\n",
              "       [ 0.75304162,  7.6997513 , 19.79993926,  0.48858396],\n",
              "       [ 7.30578529,  8.30221588, 19.63958941,  0.7957769 ],\n",
              "       [ 2.57307495, 17.74837768,  8.1773548 ,  5.76260981],\n",
              "       [ 7.9010099 , 18.29409089,  5.39175629,  1.15127891],\n",
              "       [ 3.39131015,  1.88132861, 10.64768407, 19.93319861],\n",
              "       [ 9.74640951,  2.5984874 ,  1.12677362,  2.72576029],\n",
              "       [16.37965925, 15.35177242,  3.96214201,  5.79584618],\n",
              "       [18.69021669,  4.25010606, 12.0711112 ,  9.82783945],\n",
              "       [19.15346656,  1.25086596, 16.39966686,  9.56318111],\n",
              "       [16.67631554,  6.80390642,  0.17965449,  0.31092876],\n",
              "       [ 5.83786053, 18.61533993, 15.62892381, 17.16011713],\n",
              "       [13.37377611, 18.70663175,  2.7811351 , 11.32921636],\n",
              "       [16.76442992,  9.80804967, 11.83272638,  9.95675694],\n",
              "       [14.42014947,  9.82997544,  6.5310704 ,  6.41417562],\n",
              "       [ 6.28531475, 15.61695806, 11.26525927, 12.70501417],\n",
              "       [ 0.0631194 , 11.9978772 ,  8.61865385,  3.94983613],\n",
              "       [11.84592005,  6.5397818 , 15.23092794,  1.88919596],\n",
              "       [ 9.39361834,  5.95406437, 11.22798243,  7.3960343 ],\n",
              "       [16.79510745,  4.46554586,  8.09697544,  7.70196263],\n",
              "       [17.33348167, 15.72844191, 12.1199315 , 15.64253205],\n",
              "       [14.58906024,  3.69711554, 15.14764465, 12.56444574],\n",
              "       [ 7.68494008, 14.80189744, 14.24801305, 11.16682767],\n",
              "       [ 0.08438611,  1.3042167 ,  5.44250972,  2.90220224],\n",
              "       [ 0.97607714,  3.69080559, 15.92174639, 18.61752829],\n",
              "       [13.82849225,  4.44805406,  6.22227126,  4.30795891]])"
            ]
          },
          "metadata": {},
          "execution_count": 115
        }
      ]
    },
    {
      "cell_type": "markdown",
      "source": [
        "Now we define a function to get the ternary(base 3) of an integer\n",
        "This is done to generate combinations of -1,0 and 1 in each dimension\n",
        "Since there are D dimensions we shall generate 3^D numbers\n",
        "\n",
        "These combinations will be used as the condition to check which points lie in adjacent cells of the current point P by adding 1,0 or -1 to the cell in which the point is located, it is an extrapolation of the concept in 2D but there it was easy to generate two loops corresponding to two dimensions of x and y where i and j varied from -1,0 and 1"
      ],
      "metadata": {
        "id": "QJvBEzN9lcm1"
      }
    },
    {
      "cell_type": "markdown",
      "source": [
        "ternary(x) shall take as an input an integer x and convert it to an array of base 3 containing digits as many as there are dimensions\n",
        "If we loop from 0 to 3^d - 1 (inclusive) then we get all 3^d required combinations of -1 0 and 1 in a list"
      ],
      "metadata": {
        "id": "FsR06S31mRgM"
      }
    },
    {
      "cell_type": "code",
      "source": [
        "def ternary(t):\n",
        "  x = t\n",
        "  x = int(x)\n",
        "  b3 = np.array([],dtype='uint32')\n",
        "  for i in range(0,D):\n",
        "   b3 = np.append(b3,x%3)\n",
        "   x = x//3\n",
        "  b3 = b3 - 1\n",
        "  return b3"
      ],
      "metadata": {
        "id": "L0EWg1GWjjIj"
      },
      "execution_count": 116,
      "outputs": []
    },
    {
      "cell_type": "markdown",
      "source": [
        "Now we shall finally find all the points in the adjacent \"cells\" of the D dimension and check if the points in those cells are within a vicinity r of the current point"
      ],
      "metadata": {
        "id": "UUtrdPo8plOr"
      }
    },
    {
      "cell_type": "code",
      "source": [
        "cells = np.int32(pts)\n",
        "pairs = [()]\n",
        "\n",
        "for t in range(0,SAMPLE_SIZE):\n",
        "  cell = cells[t]\n",
        "  for i in range(0,3**D):\n",
        "    skip_particular_i = False\n",
        "    x = ternary(i)\n",
        "    for d in range(0,D): #Looping over all dimensions, if the cell touches one of the axes we dont add -1 to the cell index\n",
        "     if(cell[d]==0 and x[d]<0):\n",
        "      skip_particular_i = True\n",
        "      break #Breaks only inner loop\n",
        "    if(skip_particular_i):\n",
        "      continue #Skips this particular iteration where the above condition of the axis touching is satisfied\n",
        "    #Now the corner cases are dealt with\n",
        "    #idx = find_indices(cells,[a+i,b+j])\n",
        "    checking_cell = np.copy(cell) + x\n",
        "    idx = find_indices(cells,checking_cell)\n",
        "    if(np.array_equal(cell,checking_cell)):\n",
        "     idx = idx[idx!=t] #Avoiding pairing with itself\n",
        "    for m in idx:\n",
        "      if(distance(pts[t],pts[m])<=1):\n",
        "            pair = (t,m)\n",
        "            pair_rev = (m,t)\n",
        "            if(len(pairs[0])==0):\n",
        "              pairs[0] = pair\n",
        "            elif (pair in pairs) or (pair_rev in pairs):\n",
        "              continue\n",
        "            else:\n",
        "              pairs.append(pair)\n",
        "\n",
        "pairs"
      ],
      "metadata": {
        "colab": {
          "base_uri": "https://localhost:8080/"
        },
        "id": "xzkxAdN3pjgy",
        "outputId": "74440bdc-3bbf-45b0-eebc-08764f90bf2a"
      },
      "execution_count": 117,
      "outputs": [
        {
          "output_type": "execute_result",
          "data": {
            "text/plain": [
              "[(18, 65), (33, 59), (65, 93)]"
            ]
          },
          "metadata": {},
          "execution_count": 117
        }
      ]
    }
  ],
  "metadata": {
    "language_info": {
      "name": "python"
    },
    "orig_nbformat": 4,
    "colab": {
      "provenance": [],
      "toc_visible": true
    },
    "kernelspec": {
      "name": "python3",
      "display_name": "Python 3"
    }
  },
  "nbformat": 4,
  "nbformat_minor": 0
}